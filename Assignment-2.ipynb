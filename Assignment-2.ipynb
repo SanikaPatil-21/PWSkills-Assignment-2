{
 "cells": [
  {
   "cell_type": "markdown",
   "id": "92ccd8f0-3550-4935-a50c-893594580228",
   "metadata": {
    "tags": []
   },
   "source": [
    "# Assignment-2"
   ]
  },
  {
   "cell_type": "markdown",
   "id": "60ea9429-8ead-445b-96a8-38d81546bbf4",
   "metadata": {},
   "source": [
    "### Q1. How do you comment code in Python? What are the different types of comments?"
   ]
  },
  {
   "cell_type": "markdown",
   "id": "59c7d648-c132-407a-b1be-2b5bed59e81b",
   "metadata": {},
   "source": [
    "#### ----> Comments in Python :\n",
    "Comments gives the extra information about the specific line or the specific function. It increases the Readability of the Code.\n",
    "#### In Python their are three types of comments are available these are-\n",
    "1. Single line comment : When we give comment in single line it's single line comment. '#' symbol is used for single line comment at the beginning of the comment line.\n",
    "2. Multiline comment : Python does not provide the facility for multi-line comments. But ue use'#' at the beginning of each comment line can create a multiline comment.\n",
    "3. Docstring : The strings enclosed in triple quotes that come immediately after the defined function are called Python docstring.It's placed just beneath the function, module, or class to explain what they perform. The docstring is then readily accessible in Python using the __doc__ attribute.\n"
   ]
  },
  {
   "cell_type": "markdown",
   "id": "bd300042-8320-4db5-b023-2694b64d1db3",
   "metadata": {},
   "source": [
    "### Q2. What are variables in Python? How do you declare and assign values to variables?"
   ]
  },
  {
   "cell_type": "markdown",
   "id": "786e98f7-2e75-48e1-952e-c30237dea43c",
   "metadata": {},
   "source": [
    "#### ----> Python Variables :\n",
    "A variable is the name given to a memory location. A value-holding Python variable is also known as an identifier.\n",
    "Variable names must begin with a letter or an underscore, but they can be a group of both letters and digits.\n",
    "The name of the variable should be written in lowercase.\n",
    "\n",
    "#### Declearimg variables and Assigning values :\n",
    "1. Python doesn't tie us to pronounce a variable prior to involving it in the application. It permits us to make a variable at the necessary time.\n",
    "2. In Python, we don't have to explicitly declare variables. The variable is declared automatically whenever a value is added to it.\n",
    "3. The equal (=) operator is utilized to assign worth to a variable."
   ]
  },
  {
   "cell_type": "markdown",
   "id": "45b4ce10-f05e-4679-9969-73f5c1b8829e",
   "metadata": {},
   "source": [
    "### Q3. How do you convert one data type to another in Python?"
   ]
  },
  {
   "cell_type": "markdown",
   "id": "c2df8494-04bc-4ddc-a0ad-8e6c588b8a99",
   "metadata": {},
   "source": [
    "#### ----> Type conversion in Python"
   ]
  },
  {
   "cell_type": "markdown",
   "id": "4cee4bdb-d22a-445a-bb45-e5944ab93ddc",
   "metadata": {},
   "source": [
    "### Python Implicit Data Type Conversion :\n",
    "  Implicit conversion is when data type conversion takes place either during compilation or during run time and   is handled directly by Python.\n",
    "\n",
    "### Python Explicit Data Type Conversion : \n",
    "  Explicit conversion, also known as type casting,is when data type conversion takes place because we clearly     defined it in our program. We basically force an expression to be of a specific type.\n",
    "\n",
    "#### Primitive Data Structures Conversions :\n",
    "1. Integer and Float Conversions\n",
    "  To convert the integer to float, use the float() function in Python. Similarly, if we want to convert a float   to an integer, we can use the int() function.\n",
    "\n",
    "2. Real to Complex Data Type Conversion :\n",
    "  We can convert integers to complex numbers by using complex(real,imag). It requires two integers and converts   real numbers to complex numbers.\n",
    "\n",
    "3. Data Type Conversion with Strings :\n",
    "  A string is a collection of one or more characters (letters, numbers, symbols). We may need to convert strings   to numbers or numbers to strings fairly often. We use the str() function for this conversion.\n",
    "\n",
    "  Type Conversion to Tuples and Lists :\n",
    "  We can use the tuple() function to return a tuple version of the value passed to it, and similarly the list()   function to convert to a list.\n",
    "\n",
    "  Type Conversion to Dictionaries, and Sets :\n",
    "  We can use the dict() function to convert a tuple to a dictionary and set() to convert a list to a set.\n",
    "\n",
    "#### Unicode, Binary, Octal, and Hexadecimal Integers in Python :\n",
    "\n",
    "1. Convert Binary to Decimal in Python :\n",
    "  We can simply use the bin() function to convert from a decimal value to its corresponding binary value.\n",
    "  And similarly, the int() function to convert a binary to its decimal value.\n",
    "\n",
    "2. Convert Octal to Decimal in Python \n",
    "  We can use the oct() function to convert from a decimal value to its corresponding octal value.\n",
    "\n",
    "3. Convert Hexadecimal to Decimal in Python :\n",
    "  We can use the hex() function to convert from a decimal value to its corresponding hexadecimal value.\n",
    "\n",
    "4. Convert Unicode to Character :\n",
    "  chr() converts unicode integers to string.\n",
    " \n",
    "\n",
    "\n"
   ]
  },
  {
   "cell_type": "markdown",
   "id": "bd99420b-a617-4a09-9145-24a9bfad097e",
   "metadata": {},
   "source": [
    "### Q4. How do you write and execute a Python script from the command line? "
   ]
  },
  {
   "cell_type": "markdown",
   "id": "f1b84977-03c3-4f7c-b07a-8a6dfd586036",
   "metadata": {},
   "source": [
    "#### ----> Steps \n",
    "1. Creating Python scripts that can be run from the command line :\n",
    "Creating Python scripts that can be run from the command line...\n",
    "\n",
    "#### print(\"Hello from my Python script\")\n",
    "\n",
    "2. Run the Python Script from the Terminal :\n",
    "Use cd to change the terminal’s current directory. Then run the script.\n",
    "\n",
    "#### (base) C:\\Sanika\\Assi>cd c:/konrad/code/python/z_testing\n",
    "#### (base) c:\\Assi\\code\\python\\z_testing>python hello.py\n",
    "\n",
    "o/p : Hello from my Python script\n"
   ]
  },
  {
   "cell_type": "markdown",
   "id": "696c664b-008c-4aea-9924-151d3db9b1b4",
   "metadata": {},
   "source": [
    "### Q5. Given a list my_list = [1, 2, 3, 4, 5], write the code to slice the list and obtain the sub-list [2, 3]."
   ]
  },
  {
   "cell_type": "code",
   "execution_count": 2,
   "id": "c3be477d-97de-4d0c-9720-6f44c7e7658a",
   "metadata": {},
   "outputs": [
    {
     "data": {
      "text/plain": [
       "[2, 3]"
      ]
     },
     "execution_count": 2,
     "metadata": {},
     "output_type": "execute_result"
    }
   ],
   "source": [
    "my_list = [1, 2, 3, 4, 5]\n",
    "my_list [1:3]"
   ]
  },
  {
   "cell_type": "markdown",
   "id": "119f49f6-7b5c-4667-aba7-d7a71370a75a",
   "metadata": {},
   "source": [
    "### Q6. What is a complex number in mathematics, and how is it represented in Python?"
   ]
  },
  {
   "cell_type": "markdown",
   "id": "082ed96a-8e26-4918-afd4-b2ca6d73f0c7",
   "metadata": {},
   "source": [
    "#### ----> Compex Number :\n",
    "In MAthematics : \n",
    "  The numbers that are expressed in the form of a+ib where, a,b are real numbers and 'i' is an imaginary number   called “iota”.\n",
    "  \n",
    "  Complex numbers are created from two real numbers. We can create it directly or you can use the complex         function. It is written in the form of (x + yj) where x and y are real numbers and j is an imaginary number     which is the square root of -1.\n",
    "  \n",
    "#### Syntax\n",
    "complex([real[, imag]])"
   ]
  },
  {
   "cell_type": "markdown",
   "id": "e2e0773a-f31d-4000-b599-41d32536855b",
   "metadata": {},
   "source": [
    "### Q7. What is the correct way to declare a variable named age and assign the value 25 to it?"
   ]
  },
  {
   "cell_type": "markdown",
   "id": "58d2059e-1645-4e74-b26a-ec3d4eb4c162",
   "metadata": {},
   "source": [
    "#### ----> Python has no command for declaring a variable. A variable is created when some value is assigned to it. The value assigned to a variable determines the data type of that variable.\n",
    "\n",
    "Thus, declaring a variable in Python is very simple.\n",
    "\n",
    "Just name the variable\n",
    "\n",
    "Assign the required value to it\n",
    "\n",
    "The data type of the variable will be automatically determined from the value assigned, we need not define it explicitly.\n",
    " \n"
   ]
  },
  {
   "cell_type": "code",
   "execution_count": 3,
   "id": "0fe33ae3-9262-4890-a7b9-441da3432f23",
   "metadata": {},
   "outputs": [
    {
     "name": "stdout",
     "output_type": "stream",
     "text": [
      "25\n"
     ]
    }
   ],
   "source": [
    "age= 25\n",
    "print(age)"
   ]
  },
  {
   "cell_type": "markdown",
   "id": "dd441e24-c7b9-4e02-b0d5-5b24fb6e233d",
   "metadata": {},
   "source": [
    "### Q8. Declare a variable named price and assign the value 9.99 to it. What data type does this variable belong to"
   ]
  },
  {
   "cell_type": "code",
   "execution_count": 4,
   "id": "6352e388-b16b-455a-8f3a-e638f597fb88",
   "metadata": {},
   "outputs": [
    {
     "name": "stdout",
     "output_type": "stream",
     "text": [
      "9.99\n"
     ]
    }
   ],
   "source": [
    "price=9.99\n",
    "print(price)"
   ]
  },
  {
   "cell_type": "markdown",
   "id": "74c4d936-8dc7-45fd-89ae-4a126d3c03a1",
   "metadata": {},
   "source": [
    "### Q9. Create a variable named name and assign your full name to it as a string. How would you print the value of this variable?"
   ]
  },
  {
   "cell_type": "code",
   "execution_count": 6,
   "id": "3a989554-4555-4d3a-8f1c-67b64f680de8",
   "metadata": {},
   "outputs": [
    {
     "name": "stdout",
     "output_type": "stream",
     "text": [
      "Sanika Mahesh Patil\n"
     ]
    }
   ],
   "source": [
    "name = \"Sanika Mahesh Patil\"\n",
    "print(name)"
   ]
  },
  {
   "cell_type": "markdown",
   "id": "c0cd6193-1507-40ea-ae1c-7b4cfad0ee27",
   "metadata": {},
   "source": [
    "### Q10. Given the string \"Hello, World!\", extract the substring \"World\"."
   ]
  },
  {
   "cell_type": "code",
   "execution_count": 8,
   "id": "6a953488-895e-4041-98c2-1529a4990d4d",
   "metadata": {},
   "outputs": [
    {
     "data": {
      "text/plain": [
       "'World'"
      ]
     },
     "execution_count": 8,
     "metadata": {},
     "output_type": "execute_result"
    }
   ],
   "source": [
    "a = \"Hello, World!\"\n",
    "a[7:12:1]"
   ]
  },
  {
   "cell_type": "markdown",
   "id": "282f93a3-3e1a-408d-b369-e4722d7a35ae",
   "metadata": {},
   "source": [
    "### Q11. Create a variable named \"is_student\" and assign it a boolean value indicating whether you are currently a student or not."
   ]
  },
  {
   "cell_type": "code",
   "execution_count": 9,
   "id": "c020e41f-a2f8-413e-a83f-6d65ec9db5ff",
   "metadata": {},
   "outputs": [
    {
     "name": "stdout",
     "output_type": "stream",
     "text": [
      "True\n"
     ]
    }
   ],
   "source": [
    "is_student=True\n",
    "print(is_student)"
   ]
  },
  {
   "cell_type": "code",
   "execution_count": null,
   "id": "7a2b6ac4-e109-4c44-9373-661cdc41d906",
   "metadata": {},
   "outputs": [],
   "source": []
  }
 ],
 "metadata": {
  "kernelspec": {
   "display_name": "Python 3 (ipykernel)",
   "language": "python",
   "name": "python3"
  },
  "language_info": {
   "codemirror_mode": {
    "name": "ipython",
    "version": 3
   },
   "file_extension": ".py",
   "mimetype": "text/x-python",
   "name": "python",
   "nbconvert_exporter": "python",
   "pygments_lexer": "ipython3",
   "version": "3.10.8"
  }
 },
 "nbformat": 4,
 "nbformat_minor": 5
}
